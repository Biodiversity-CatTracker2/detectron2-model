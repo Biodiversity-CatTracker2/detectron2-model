{
  "cells": [
    {
      "cell_type": "markdown",
      "metadata": {
        "id": "vM54r6jlKTII"
      },
      "source": [
        "# Install detectron2"
      ]
    },
    {
      "cell_type": "code",
      "execution_count": null,
      "metadata": {
        "id": "x6Y5h7i-COtF",
        "vscode": {
          "languageId": "python"
        }
      },
      "outputs": [],
      "source": [
        "! pip install torch torchvision torchaudio --force-reinstall"
      ]
    },
    {
      "cell_type": "code",
      "execution_count": null,
      "metadata": {
        "id": "3DK7-V-zC74M",
        "vscode": {
          "languageId": "python"
        }
      },
      "outputs": [],
      "source": [
        "! python -m pip install 'git+https://github.com/facebookresearch/detectron2.git'"
      ]
    },
    {
      "cell_type": "code",
      "execution_count": null,
      "metadata": {
        "id": "j1IR8QvMspN2",
        "vscode": {
          "languageId": "python"
        }
      },
      "outputs": [],
      "source": [
        "! pip install pyyaml==5.1"
      ]
    },
    {
      "cell_type": "code",
      "execution_count": null,
      "metadata": {
        "id": "C9UB9PepmbbM",
        "vscode": {
          "languageId": "python"
        }
      },
      "outputs": [],
      "source": [
        "! pip install -U pillow"
      ]
    },
    {
      "cell_type": "code",
      "execution_count": null,
      "metadata": {
        "id": "5dGPiJXWl6VU",
        "vscode": {
          "languageId": "python"
        }
      },
      "outputs": [],
      "source": [
        "! git clone https://github.com/facebookresearch/detectron2.git"
      ]
    },
    {
      "cell_type": "code",
      "execution_count": null,
      "metadata": {
        "id": "FsePPpwZSmqt",
        "vscode": {
          "languageId": "python"
        }
      },
      "outputs": [],
      "source": [
        "import torch\n",
        "TORCH_VERSION = \".\".join(torch.__version__.split(\".\")[:2])\n",
        "CUDA_VERSION = torch.__version__.split(\"+\")[-1]\n",
        "print(\"torch: \", TORCH_VERSION, \"; cuda: \", CUDA_VERSION)\n",
        "# Install detectron2 that matches the above pytorch version\n",
        "# See https://detectron2.readthedocs.io/tutorials/install.html for instructions\n",
        "# exit(0)  # After installation, you may need to \"restart runtime\" in Colab. This line can also restart runtime"
      ]
    },
    {
      "cell_type": "code",
      "execution_count": null,
      "metadata": {
        "id": "ZyAvNCJMmvFF",
        "vscode": {
          "languageId": "python"
        }
      },
      "outputs": [],
      "source": [
        "# Some basic setup:\n",
        "# Setup detectron2 logger\n",
        "import detectron2\n",
        "from detectron2.utils.logger import setup_logger\n",
        "setup_logger()\n",
        "\n",
        "# import some common libraries\n",
        "import numpy as np\n",
        "import os, json, cv2, random\n",
        "from google.colab.patches import cv2_imshow\n",
        "\n",
        "# import some common detectron2 utilities\n",
        "from detectron2 import model_zoo\n",
        "from detectron2.engine import DefaultPredictor\n",
        "from detectron2.config import get_cfg\n",
        "from detectron2.utils.visualizer import Visualizer\n",
        "from detectron2.data import MetadataCatalog, DatasetCatalog"
      ]
    },
    {
      "cell_type": "markdown",
      "metadata": {
        "id": "Vk4gID50K03a"
      },
      "source": [
        "# Run a pre-trained detectron2 model"
      ]
    },
    {
      "cell_type": "code",
      "execution_count": null,
      "metadata": {
        "id": "GKB3KHtk4bol",
        "vscode": {
          "languageId": "python"
        }
      },
      "outputs": [],
      "source": [
        "ZIP_FILE_NAME='<PLACEHOLDER>'\n",
        "! unzip \"$ZIP_FILE_NAME\"\n",
        "\n",
        "UNZIPPED_FOLDER_NAME='<PLACEHOLDER>'"
      ]
    },
    {
      "cell_type": "code",
      "execution_count": null,
      "metadata": {
        "id": "LX5I0CN14iM8",
        "vscode": {
          "languageId": "python"
        }
      },
      "outputs": [],
      "source": [
        "from glob import glob\n",
        "from pathlib import Path\n",
        "\n",
        "from tqdm import tqdm\n",
        "\n",
        "files = glob(f'{UNZIPPED_FOLDER_NAME}/*')\n",
        "len(files)"
      ]
    },
    {
      "cell_type": "markdown",
      "metadata": {
        "id": "uM1thbN-ntjI"
      },
      "source": [
        "Then, we create a detectron2 config and a detectron2 `DefaultPredictor` to run inference on this image."
      ]
    },
    {
      "cell_type": "code",
      "execution_count": null,
      "metadata": {
        "id": "HUjkwRsOn1O0",
        "vscode": {
          "languageId": "python"
        }
      },
      "outputs": [],
      "source": [
        "cfg = get_cfg()\n",
        "# add project-specific config (e.g., TensorMask) here if you're not running a model in detectron2's core library\n",
        "cfg.merge_from_file(model_zoo.get_config_file(\"COCO-InstanceSegmentation/mask_rcnn_R_50_FPN_3x.yaml\"))\n",
        "cfg.MODEL.ROI_HEADS.SCORE_THRESH_TEST = 0.5  # set threshold for this model\n",
        "# Find a model from detectron2's model zoo. You can use the https://dl.fbaipublicfiles... url as well\n",
        "cfg.MODEL.WEIGHTS = model_zoo.get_checkpoint_url(\"COCO-InstanceSegmentation/mask_rcnn_R_50_FPN_3x.yaml\")\n",
        "predictor = DefaultPredictor(cfg)\n",
        "\n",
        "# im = '/some/image'\n",
        "# outputs = predictor(im)\n",
        "\n",
        "# # look at the outputs. See https://detectron2.readthedocs.io/tutorials/models.html#model-output-format for specification\n",
        "# print(outputs[\"instances\"].pred_classes)\n",
        "# print(outputs[\"instances\"].pred_boxes)"
      ]
    },
    {
      "cell_type": "code",
      "execution_count": null,
      "metadata": {
        "id": "wMH7Kw_SSFap",
        "vscode": {
          "languageId": "python"
        }
      },
      "outputs": [],
      "source": [
        "from detectron2.utils.visualizer import GenericMask\n",
        "from detectron2.utils.visualizer import ColorMode\n",
        "\n",
        "def _create_text_labels(classes, scores, class_names, is_crowd=None):\n",
        "    \"\"\"\n",
        "    Args:\n",
        "        classes (list[int] or None):\n",
        "        scores (list[float] or None):\n",
        "        class_names (list[str] or None):\n",
        "        is_crowd (list[bool] or None):\n",
        "\n",
        "    Returns:\n",
        "        list[str] or None\n",
        "    \"\"\"\n",
        "    labels = None\n",
        "    if classes is not None:\n",
        "        if class_names is not None and len(class_names) > 0:\n",
        "            labels = [class_names[i] for i in classes]\n",
        "        else:\n",
        "            labels = [str(i) for i in classes]\n",
        "    if scores is not None:\n",
        "        if labels is None:\n",
        "            labels = [\"{:.0f}%\".format(s * 100) for s in scores]\n",
        "        else:\n",
        "            labels = [\"{} {:.0f}%\".format(l, s * 100) for l, s in zip(labels, scores)]\n",
        "    if labels is not None and is_crowd is not None:\n",
        "        labels = [l + (\"|crowd\" if crowd else \"\") for l, crowd in zip(labels, is_crowd)]\n",
        "        print(labels)\n",
        "    return labels\n"
      ]
    },
    {
      "cell_type": "code",
      "execution_count": null,
      "metadata": {
        "id": "dkAzt3AFYDAz",
        "vscode": {
          "languageId": "python"
        }
      },
      "outputs": [],
      "source": [
        "import matplotlib.colors as mplc\n",
        "import matplotlib as mpl\n",
        "\n",
        "def draw_polygon(self, segment, color, edge_color=None, alpha=0.5, _linewidth=None):\n",
        "    \"\"\"\n",
        "    Args:\n",
        "        segment: numpy array of shape Nx2, containing all the points in the polygon.\n",
        "        color: color of the polygon. Refer to `matplotlib.colors` for a full list of\n",
        "            formats that are accepted.\n",
        "        edge_color: color of the polygon edges. Refer to `matplotlib.colors` for a\n",
        "            full list of formats that are accepted. If not provided, a darker shade\n",
        "            of the polygon color will be used instead.\n",
        "        alpha (float): blending efficient. Smaller values lead to more transparent masks.\n",
        "\n",
        "    Returns:\n",
        "        output (VisImage): image object with polygon drawn.\n",
        "    \"\"\"\n",
        "    if edge_color is None:\n",
        "        # make edge color darker than the polygon color\n",
        "        if alpha > 0.8:\n",
        "            edge_color = self._change_color_brightness(color, brightness_factor=-0.7)\n",
        "        else:\n",
        "            edge_color = color\n",
        "    edge_color = mplc.to_rgb(edge_color) + (1,)\n",
        "\n",
        "    if not _linewidth:\n",
        "        _linewidth = max(self._default_font_size // 15 * self.output.scale, 1)\n",
        "    polygon = mpl.patches.Polygon(\n",
        "        segment,\n",
        "        fill=True,\n",
        "        facecolor=mplc.to_rgb(color) + (alpha,),\n",
        "        edgecolor=edge_color,\n",
        "        linewidth=_linewidth,\n",
        "    )\n",
        "    self.output.ax.add_patch(polygon)\n",
        "    return self.output"
      ]
    },
    {
      "cell_type": "code",
      "execution_count": null,
      "metadata": {
        "id": "iUbiLWFaWvLf",
        "vscode": {
          "languageId": "python"
        }
      },
      "outputs": [],
      "source": [
        "import sys\n",
        "from detectron2.utils.colormap import random_color\n",
        "\n",
        "_SMALL_OBJECT_AREA_THRESH = 1000\n",
        "_LARGE_MASK_AREA_THRESH = 120000\n",
        "_OFF_WHITE = (1.0, 1.0, 240.0 / 255)\n",
        "_BLACK = (0, 0, 0)\n",
        "_RED = (1.0, 0, 0)\n",
        "\n",
        "_KEYPOINT_THRESHOLD = 0.05\n",
        "\n",
        "# sys.path.insert(0, '/usr/local/lib/python3.8/dist-packages/detectron2/utils')\n",
        "# from colormap import random_color\n",
        "\n",
        "def overlay_instances(\n",
        "    self,\n",
        "    *,\n",
        "    boxes=None,\n",
        "    labels=None,\n",
        "    masks=None,\n",
        "    keypoints=None,\n",
        "    assigned_colors=None,\n",
        "    alpha=0.5,\n",
        "    _linewidth=None\n",
        "):\n",
        "    \"\"\"\n",
        "    Args:\n",
        "        boxes (Boxes, RotatedBoxes or ndarray): either a :class:`Boxes`,\n",
        "            or an Nx4 numpy array of XYXY_ABS format for the N objects in a single image,\n",
        "            or a :class:`RotatedBoxes`,\n",
        "            or an Nx5 numpy array of (x_center, y_center, width, height, angle_degrees) format\n",
        "            for the N objects in a single image,\n",
        "        labels (list[str]): the text to be displayed for each instance.\n",
        "        masks (masks-like object): Supported types are:\n",
        "\n",
        "            * :class:`detectron2.structures.PolygonMasks`,\n",
        "                :class:`detectron2.structures.BitMasks`.\n",
        "            * list[list[ndarray]]: contains the segmentation masks for all objects in one image.\n",
        "                The first level of the list corresponds to individual instances. The second\n",
        "                level to all the polygon that compose the instance, and the third level\n",
        "                to the polygon coordinates. The third level should have the format of\n",
        "                [x0, y0, x1, y1, ..., xn, yn] (n >= 3).\n",
        "            * list[ndarray]: each ndarray is a binary mask of shape (H, W).\n",
        "            * list[dict]: each dict is a COCO-style RLE.\n",
        "        keypoints (Keypoint or array like): an array-like object of shape (N, K, 3),\n",
        "            where the N is the number of instances and K is the number of keypoints.\n",
        "            The last dimension corresponds to (x, y, visibility or score).\n",
        "        assigned_colors (list[matplotlib.colors]): a list of colors, where each color\n",
        "            corresponds to each mask or box in the image. Refer to 'matplotlib.colors'\n",
        "            for full list of formats that the colors are accepted in.\n",
        "\n",
        "    Returns:\n",
        "        output (VisImage): image object with visualizations.\n",
        "    \"\"\"\n",
        "    num_instances = 0\n",
        "    if boxes is not None:\n",
        "        boxes = self._convert_boxes(boxes)\n",
        "        num_instances = len(boxes)\n",
        "    if masks is not None:\n",
        "        masks = self._convert_masks(masks)\n",
        "        if num_instances:\n",
        "            assert len(masks) == num_instances\n",
        "        else:\n",
        "            num_instances = len(masks)\n",
        "    if keypoints is not None:\n",
        "        if num_instances:\n",
        "            assert len(keypoints) == num_instances\n",
        "        else:\n",
        "            num_instances = len(keypoints)\n",
        "        keypoints = self._convert_keypoints(keypoints)\n",
        "    if labels is not None:\n",
        "        assert len(labels) == num_instances\n",
        "    if assigned_colors is None:\n",
        "        assigned_colors = [random_color(rgb=True, maximum=1) for _ in range(num_instances)]\n",
        "    if num_instances == 0:\n",
        "        return self.output\n",
        "    if boxes is not None and boxes.shape[1] == 5:\n",
        "        return self.overlay_rotated_instances(\n",
        "            boxes=boxes, labels=labels, assigned_colors=assigned_colors\n",
        "        )\n",
        "\n",
        "    # Display in largest to smallest order to reduce occlusion.\n",
        "    areas = None\n",
        "    if boxes is not None:\n",
        "        areas = np.prod(boxes[:, 2:] - boxes[:, :2], axis=1)\n",
        "    elif masks is not None:\n",
        "        areas = np.asarray([x.area() for x in masks])\n",
        "\n",
        "    if areas is not None:\n",
        "        sorted_idxs = np.argsort(-areas).tolist()\n",
        "        # Re-order overlapped instances in descending order.\n",
        "        boxes = boxes[sorted_idxs] if boxes is not None else None\n",
        "        labels = [labels[k] for k in sorted_idxs] if labels is not None else None\n",
        "        masks = [masks[idx] for idx in sorted_idxs] if masks is not None else None\n",
        "        assigned_colors = [assigned_colors[idx] for idx in sorted_idxs]\n",
        "        keypoints = keypoints[sorted_idxs] if keypoints is not None else None\n",
        "\n",
        "    for i in range(num_instances):\n",
        "        color = assigned_colors[i]\n",
        "        if boxes is not None:\n",
        "            self.draw_box(boxes[i], edge_color=color)\n",
        "\n",
        "        if masks is not None:\n",
        "            for segment in masks[i].polygons:\n",
        "                draw_polygon(v, segment.reshape(-1, 2), color, alpha=alpha, _linewidth=_linewidth)\n",
        "\n",
        "        if labels is not None:\n",
        "            # first get a box\n",
        "            if boxes is not None:\n",
        "                x0, y0, x1, y1 = boxes[i]\n",
        "                text_pos = (x0, y0)  # if drawing boxes, put text on the box corner.\n",
        "                horiz_align = \"left\"\n",
        "            elif masks is not None:\n",
        "                # skip small mask without polygon\n",
        "                if len(masks[i].polygons) == 0:\n",
        "                    continue\n",
        "\n",
        "                x0, y0, x1, y1 = masks[i].bbox()\n",
        "\n",
        "                # draw text in the center (defined by median) when box is not drawn\n",
        "                # median is less sensitive to outliers.\n",
        "                text_pos = np.median(masks[i].mask.nonzero(), axis=1)[::-1]\n",
        "                horiz_align = \"center\"\n",
        "            else:\n",
        "                continue  # drawing the box confidence for keypoints isn't very useful.\n",
        "            # for small objects, draw text at the side to avoid occlusion\n",
        "            instance_area = (y1 - y0) * (x1 - x0)\n",
        "            if (\n",
        "                instance_area < _SMALL_OBJECT_AREA_THRESH * self.output.scale\n",
        "                or y1 - y0 < 40 * self.output.scale\n",
        "            ):\n",
        "                if y1 >= self.output.height - 5:\n",
        "                    text_pos = (x1, y0)\n",
        "                else:\n",
        "                    text_pos = (x0, y1)\n",
        "\n",
        "            height_ratio = (y1 - y0) / np.sqrt(self.output.height * self.output.width)\n",
        "            lighter_color = self._change_color_brightness(color, brightness_factor=0.7)\n",
        "            font_size = (\n",
        "                np.clip((height_ratio - 0.02) / 0.08 + 1, 1.2, 2)\n",
        "                * 0.5\n",
        "                * self._default_font_size\n",
        "            )\n",
        "            self.draw_text(\n",
        "                labels[i],\n",
        "                text_pos,\n",
        "                color=lighter_color,\n",
        "                horizontal_alignment=horiz_align,\n",
        "                font_size=font_size,\n",
        "            )\n",
        "\n",
        "    # draw keypoints\n",
        "    if keypoints is not None:\n",
        "        for keypoints_per_instance in keypoints:\n",
        "            self.draw_and_connect_keypoints(keypoints_per_instance)\n",
        "\n",
        "    return self.output\n"
      ]
    },
    {
      "cell_type": "code",
      "execution_count": null,
      "metadata": {
        "id": "mw_WhVV-R13l",
        "vscode": {
          "languageId": "python"
        }
      },
      "outputs": [],
      "source": [
        "def draw_instance_predictions(self, predictions, _alpha, _colors=None, labels=None, _linewidth=None):\n",
        "    \"\"\"\n",
        "    Draw instance-level prediction results on an image.\n",
        "\n",
        "    Args:\n",
        "        predictions (Instances): the output of an instance detection/segmentation\n",
        "            model. Following fields will be used to draw:\n",
        "            \"pred_boxes\", \"pred_classes\", \"scores\", \"pred_masks\" (or \"pred_masks_rle\").\n",
        "\n",
        "    Returns:\n",
        "        output (VisImage): image object with visualizations.\n",
        "    \"\"\"\n",
        "    boxes = predictions.pred_boxes if predictions.has(\"pred_boxes\") else None\n",
        "    scores = predictions.scores if predictions.has(\"scores\") else None\n",
        "    classes = predictions.pred_classes.tolist() if predictions.has(\"pred_classes\") else None\n",
        "    if not labels:\n",
        "        labels = _create_text_labels(classes, scores, self.metadata.get(\"thing_classes\", None))\n",
        "    keypoints = predictions.pred_keypoints if predictions.has(\"pred_keypoints\") else None\n",
        "\n",
        "    if predictions.has(\"pred_masks\"):\n",
        "        masks = np.asarray(predictions.pred_masks)\n",
        "        masks = [GenericMask(x, self.output.height, self.output.width) for x in masks]\n",
        "    else:\n",
        "        masks = None\n",
        "\n",
        "    if self._instance_mode == ColorMode.SEGMENTATION and self.metadata.get(\"thing_colors\"):\n",
        "        colors = [\n",
        "            self._jitter([x / 255 for x in self.metadata.thing_colors[c]]) for c in classes\n",
        "        ]\n",
        "        alpha = 0.8\n",
        "    else:\n",
        "        colors = _colors\n",
        "        alpha = 0.5\n",
        "\n",
        "    if self._instance_mode == ColorMode.IMAGE_BW:\n",
        "        self.output.reset_image(\n",
        "            self._create_grayscale_image(\n",
        "                (predictions.pred_masks.any(dim=0) > 0).numpy()\n",
        "                if predictions.has(\"pred_masks\")\n",
        "                else None\n",
        "            )\n",
        "        )\n",
        "        alpha = 0.3\n",
        "\n",
        "    overlay_instances(v,\n",
        "        masks=masks,\n",
        "        boxes=boxes,\n",
        "        labels=labels,\n",
        "        keypoints=keypoints,\n",
        "        assigned_colors=colors,\n",
        "        alpha=_alpha,\n",
        "        _linewidth=_linewidth\n",
        "    )\n",
        "    return self.output"
      ]
    },
    {
      "cell_type": "code",
      "execution_count": null,
      "metadata": {
        "id": "uKzkHQj6xJHb",
        "vscode": {
          "languageId": "python"
        }
      },
      "outputs": [],
      "source": [
        "! mkdir output_imgs\n",
        "\n",
        "output_dir = 'output_imgs'"
      ]
    },
    {
      "cell_type": "code",
      "execution_count": null,
      "metadata": {
        "id": "8IRGo8d0qkgR",
        "vscode": {
          "languageId": "python"
        }
      },
      "outputs": [],
      "source": [
        "# def custom_vis(file, output_dir, show=False, save=False):\n",
        "for file in tqdm(files):\n",
        "    im = cv2.imread(file)\n",
        "    outputs = predictor(im)\n",
        "    v = Visualizer(im[:, :, ::-1], MetadataCatalog.get(cfg.DATASETS.TRAIN[0]), scale=1.2)\n",
        "    num_labels = outputs['instances'].get_fields()['pred_classes'].shape[0]\n",
        "    out = draw_instance_predictions(v,\n",
        "        outputs[\"instances\"].to(\"cpu\"),\n",
        "        _alpha=0.0,\n",
        "        _colors=['#d9534f', '#5cb85c', '#428bca'],\n",
        "        labels=['detection'] * num_labels,\n",
        "        _linewidth=10,\n",
        "        )\n",
        "    out_img = out.get_image()[:, :, ::-1]\n",
        "    cv2.imwrite(f'{output_dir}/{Path(file).name}', out_img)"
      ]
    },
    {
      "cell_type": "code",
      "execution_count": null,
      "metadata": {
        "id": "HhkbFy3xvkmC",
        "vscode": {
          "languageId": "python"
        }
      },
      "outputs": [],
      "source": [
        "!tar -cf  output_imgs.tar /content/output_imgs"
      ]
    },
    {
      "cell_type": "code",
      "execution_count": null,
      "metadata": {
        "id": "2TjBg1w0wSKg",
        "vscode": {
          "languageId": "python"
        }
      },
      "outputs": [],
      "source": [
        "! curl -F'file=@output_imgs.tar' https://ttm.sh"
      ]
    }
  ],
  "metadata": {
    "accelerator": "GPU",
    "colab": {
      "collapsed_sections": [
        "b2bjrfb2LDeo",
        "tjbUIhSxUdm_",
        "wlqXIXXhW8dA",
        "0e4vdDIOXyxF",
        "oKBbjnLw5GGG",
        "hiXadAb9Fv-L"
      ],
      "provenance": []
    },
    "kernelspec": {
      "display_name": "Python 3",
      "name": "python3"
    }
  },
  "nbformat": 4,
  "nbformat_minor": 0
}
